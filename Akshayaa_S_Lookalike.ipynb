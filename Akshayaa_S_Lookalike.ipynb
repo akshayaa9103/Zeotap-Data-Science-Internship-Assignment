{
 "cells": [
  {
   "cell_type": "markdown",
   "id": "44c3323b-e536-46ca-b1c0-53dc921a242c",
   "metadata": {},
   "source": [
    "## Importing Libraries"
   ]
  },
  {
   "cell_type": "code",
   "execution_count": 2,
   "id": "b416a255-40db-4c65-a1eb-1775ddea941b",
   "metadata": {},
   "outputs": [],
   "source": [
    "import pandas as pd\n",
    "from sklearn.preprocessing import StandardScaler\n",
    "from sklearn.metrics.pairwise import cosine_similarity\n",
    "from sklearn.cluster import KMeans\n",
    "from sklearn.metrics import davies_bouldin_score"
   ]
  },
  {
   "cell_type": "markdown",
   "id": "83575030-bb4d-4ce9-b727-22d8a5be8370",
   "metadata": {},
   "source": [
    "## Loading the datasets"
   ]
  },
  {
   "cell_type": "code",
   "execution_count": 4,
   "id": "759ef9e1-6751-43dc-a855-fa1c28cd3578",
   "metadata": {},
   "outputs": [],
   "source": [
    "customers_df = pd.read_csv(\"Customers.csv\")\n",
    "products_df = pd.read_csv(\"Products.csv\")\n",
    "transactions_df = pd.read_csv(\"Transactions.csv\")"
   ]
  },
  {
   "cell_type": "markdown",
   "id": "c874b6c4-6416-47cc-8e4f-d4e367cedd7b",
   "metadata": {},
   "source": [
    "## Convert dates to datetime format"
   ]
  },
  {
   "cell_type": "code",
   "execution_count": 6,
   "id": "0b5756fb-d70b-4c2f-bff1-6d10f197f167",
   "metadata": {},
   "outputs": [],
   "source": [
    "transactions_df[\"TransactionDate\"] = pd.to_datetime(transactions_df[\"TransactionDate\"])\n",
    "customers_df[\"SignupDate\"] = pd.to_datetime(customers_df[\"SignupDate\"])"
   ]
  },
  {
   "cell_type": "markdown",
   "id": "8da45b81-62d3-49a2-aed6-fdbeebb56687",
   "metadata": {},
   "source": [
    "## Merging the transaction data with customer data for lookalike modeling"
   ]
  },
  {
   "cell_type": "code",
   "execution_count": 8,
   "id": "4acf3fba-a60a-4228-a6b7-76a70bf9dc62",
   "metadata": {},
   "outputs": [],
   "source": [
    "customer_transactions = transactions_df.merge(customers_df, on=\"CustomerID\")"
   ]
  },
  {
   "cell_type": "markdown",
   "id": "a05eb246-2270-4896-aa29-891e6b20f81b",
   "metadata": {},
   "source": [
    "# Aggregating the purchase behavior for each customer"
   ]
  },
  {
   "cell_type": "code",
   "execution_count": 10,
   "id": "efd24e25-807b-44a1-af08-f66a2f3e8af3",
   "metadata": {},
   "outputs": [],
   "source": [
    "customer_features = customer_transactions.groupby(\"CustomerID\").agg({\"Quantity\": \"sum\", \"TotalValue\": \"sum\", }).reset_index()"
   ]
  },
  {
   "cell_type": "markdown",
   "id": "b967f9c5-d36c-4307-801b-ff70190f8f47",
   "metadata": {},
   "source": [
    "## Normalizing the data for similarity calculation"
   ]
  },
  {
   "cell_type": "code",
   "execution_count": 12,
   "id": "dac0f495-5642-4273-918a-259b3c652783",
   "metadata": {},
   "outputs": [],
   "source": [
    "scaler = StandardScaler()\n",
    "customer_features_scaled = scaler.fit_transform(customer_features[[\"Quantity\", \"TotalValue\"]])"
   ]
  },
  {
   "cell_type": "markdown",
   "id": "11eaac98-f140-4f29-8b75-ae747ab522e7",
   "metadata": {},
   "source": [
    "## Compute similarity matrix using cosine similarity"
   ]
  },
  {
   "cell_type": "code",
   "execution_count": 14,
   "id": "0afaaea5-77ff-45ed-9429-cda5eeb8908c",
   "metadata": {},
   "outputs": [],
   "source": [
    "similarity_matrix = cosine_similarity(customer_features_scaled)"
   ]
  },
  {
   "cell_type": "code",
   "execution_count": 15,
   "id": "d1d641a1-6e41-441a-b0d1-c4d588cbbae2",
   "metadata": {},
   "outputs": [],
   "source": [
    "customer_ids = customer_features[\"CustomerID\"].tolist()  # Extracting CustomerIDs\n",
    "\n",
    "lookalike_results = {}   # Lookalike model calculation\n",
    "\n",
    "for i, cust_id in enumerate(customer_ids[:20]):\n",
    "    similar_customers = list(enumerate(similarity_matrix[i]))\n",
    "    similar_customers = sorted(similar_customers, key=lambda x: x[1], reverse=True)[1:4]\n",
    "    lookalike_results[cust_id] = [(customer_ids[j], score) for j, score in similar_customers]\n",
    "\n",
    "lookalike_df = pd.DataFrame({\n",
    "    \"CustomerID\": lookalike_results.keys(),\n",
    "    \"Lookalikes\": [str(v) for v in lookalike_results.values()]    # Convert results to DataFrame for Lookalike.csv\n",
    "})\n"
   ]
  },
  {
   "cell_type": "markdown",
   "id": "6dfb771e-62a7-4db9-aac2-f2db75e61b4c",
   "metadata": {},
   "source": [
    "## Saving the lookalike results"
   ]
  },
  {
   "cell_type": "code",
   "execution_count": 17,
   "id": "1fb312e0-8ed4-4803-92e2-f07af97cb621",
   "metadata": {},
   "outputs": [],
   "source": [
    "lookalike_file_path = \"Lookalike.csv\"\n",
    "lookalike_df.to_csv(lookalike_file_path, index=False)"
   ]
  },
  {
   "cell_type": "code",
   "execution_count": 18,
   "id": "e2a52a8e-4d68-4ae6-8642-2593fea9f675",
   "metadata": {
    "scrolled": true
   },
   "outputs": [
    {
     "name": "stdout",
     "output_type": "stream",
     "text": [
      "Lookalike Recommendations for First 20 Customers:\n"
     ]
    },
    {
     "data": {
      "text/html": [
       "<div>\n",
       "<style scoped>\n",
       "    .dataframe tbody tr th:only-of-type {\n",
       "        vertical-align: middle;\n",
       "    }\n",
       "\n",
       "    .dataframe tbody tr th {\n",
       "        vertical-align: top;\n",
       "    }\n",
       "\n",
       "    .dataframe thead th {\n",
       "        text-align: right;\n",
       "    }\n",
       "</style>\n",
       "<table border=\"1\" class=\"dataframe\">\n",
       "  <thead>\n",
       "    <tr style=\"text-align: right;\">\n",
       "      <th></th>\n",
       "      <th>CustomerID</th>\n",
       "      <th>Lookalikes</th>\n",
       "    </tr>\n",
       "  </thead>\n",
       "  <tbody>\n",
       "    <tr>\n",
       "      <th>0</th>\n",
       "      <td>C0001</td>\n",
       "      <td>[('C0085', 0.9999990504724361), ('C0042', 0.99...</td>\n",
       "    </tr>\n",
       "    <tr>\n",
       "      <th>1</th>\n",
       "      <td>C0002</td>\n",
       "      <td>[('C0157', 0.9999942410168485), ('C0166', 0.99...</td>\n",
       "    </tr>\n",
       "    <tr>\n",
       "      <th>2</th>\n",
       "      <td>C0003</td>\n",
       "      <td>[('C0111', 0.9940081095432594), ('C0160', 0.99...</td>\n",
       "    </tr>\n",
       "    <tr>\n",
       "      <th>3</th>\n",
       "      <td>C0004</td>\n",
       "      <td>[('C0162', 0.9999999965087093), ('C0165', 0.99...</td>\n",
       "    </tr>\n",
       "    <tr>\n",
       "      <th>4</th>\n",
       "      <td>C0005</td>\n",
       "      <td>[('C0080', 0.999982235548051), ('C0167', 0.999...</td>\n",
       "    </tr>\n",
       "    <tr>\n",
       "      <th>5</th>\n",
       "      <td>C0006</td>\n",
       "      <td>[('C0079', 0.9999656845154902), ('C0117', 0.99...</td>\n",
       "    </tr>\n",
       "    <tr>\n",
       "      <th>6</th>\n",
       "      <td>C0007</td>\n",
       "      <td>[('C0146', 0.9999895943808703), ('C0125', 0.99...</td>\n",
       "    </tr>\n",
       "    <tr>\n",
       "      <th>7</th>\n",
       "      <td>C0008</td>\n",
       "      <td>[('C0109', 0.9998419065580372), ('C0136', 0.99...</td>\n",
       "    </tr>\n",
       "    <tr>\n",
       "      <th>8</th>\n",
       "      <td>C0009</td>\n",
       "      <td>[('C0015', 0.9999998280836607), ('C0131', 0.99...</td>\n",
       "    </tr>\n",
       "    <tr>\n",
       "      <th>9</th>\n",
       "      <td>C0010</td>\n",
       "      <td>[('C0176', 0.9977495907269393), ('C0027', 0.99...</td>\n",
       "    </tr>\n",
       "    <tr>\n",
       "      <th>10</th>\n",
       "      <td>C0011</td>\n",
       "      <td>[('C0139', 0.9995752579210654), ('C0100', 0.99...</td>\n",
       "    </tr>\n",
       "    <tr>\n",
       "      <th>11</th>\n",
       "      <td>C0012</td>\n",
       "      <td>[('C0101', 0.999958735499151), ('C0156', 0.999...</td>\n",
       "    </tr>\n",
       "    <tr>\n",
       "      <th>12</th>\n",
       "      <td>C0013</td>\n",
       "      <td>[('C0067', 0.9998962934726959), ('C0138', 0.99...</td>\n",
       "    </tr>\n",
       "    <tr>\n",
       "      <th>13</th>\n",
       "      <td>C0014</td>\n",
       "      <td>[('C0192', 0.999999195523505), ('C0159', 0.999...</td>\n",
       "    </tr>\n",
       "    <tr>\n",
       "      <th>14</th>\n",
       "      <td>C0015</td>\n",
       "      <td>[('C0009', 0.9999998280836607), ('C0131', 0.99...</td>\n",
       "    </tr>\n",
       "    <tr>\n",
       "      <th>15</th>\n",
       "      <td>C0016</td>\n",
       "      <td>[('C0154', 0.99936838556866), ('C0040', 0.9960...</td>\n",
       "    </tr>\n",
       "    <tr>\n",
       "      <th>16</th>\n",
       "      <td>C0017</td>\n",
       "      <td>[('C0075', 0.9999997918900845), ('C0179', 0.99...</td>\n",
       "    </tr>\n",
       "    <tr>\n",
       "      <th>17</th>\n",
       "      <td>C0018</td>\n",
       "      <td>[('C0045', 0.9999974739628396), ('C0041', 0.99...</td>\n",
       "    </tr>\n",
       "    <tr>\n",
       "      <th>18</th>\n",
       "      <td>C0019</td>\n",
       "      <td>[('C0142', 0.9998871390943336), ('C0174', 0.99...</td>\n",
       "    </tr>\n",
       "    <tr>\n",
       "      <th>19</th>\n",
       "      <td>C0020</td>\n",
       "      <td>[('C0058', 0.9999997942980385), ('C0193', 0.99...</td>\n",
       "    </tr>\n",
       "  </tbody>\n",
       "</table>\n",
       "</div>"
      ],
      "text/plain": [
       "   CustomerID                                         Lookalikes\n",
       "0       C0001  [('C0085', 0.9999990504724361), ('C0042', 0.99...\n",
       "1       C0002  [('C0157', 0.9999942410168485), ('C0166', 0.99...\n",
       "2       C0003  [('C0111', 0.9940081095432594), ('C0160', 0.99...\n",
       "3       C0004  [('C0162', 0.9999999965087093), ('C0165', 0.99...\n",
       "4       C0005  [('C0080', 0.999982235548051), ('C0167', 0.999...\n",
       "5       C0006  [('C0079', 0.9999656845154902), ('C0117', 0.99...\n",
       "6       C0007  [('C0146', 0.9999895943808703), ('C0125', 0.99...\n",
       "7       C0008  [('C0109', 0.9998419065580372), ('C0136', 0.99...\n",
       "8       C0009  [('C0015', 0.9999998280836607), ('C0131', 0.99...\n",
       "9       C0010  [('C0176', 0.9977495907269393), ('C0027', 0.99...\n",
       "10      C0011  [('C0139', 0.9995752579210654), ('C0100', 0.99...\n",
       "11      C0012  [('C0101', 0.999958735499151), ('C0156', 0.999...\n",
       "12      C0013  [('C0067', 0.9998962934726959), ('C0138', 0.99...\n",
       "13      C0014  [('C0192', 0.999999195523505), ('C0159', 0.999...\n",
       "14      C0015  [('C0009', 0.9999998280836607), ('C0131', 0.99...\n",
       "15      C0016  [('C0154', 0.99936838556866), ('C0040', 0.9960...\n",
       "16      C0017  [('C0075', 0.9999997918900845), ('C0179', 0.99...\n",
       "17      C0018  [('C0045', 0.9999974739628396), ('C0041', 0.99...\n",
       "18      C0019  [('C0142', 0.9998871390943336), ('C0174', 0.99...\n",
       "19      C0020  [('C0058', 0.9999997942980385), ('C0193', 0.99..."
      ]
     },
     "execution_count": 18,
     "metadata": {},
     "output_type": "execute_result"
    }
   ],
   "source": [
    "print(\"Lookalike Recommendations for First 20 Customers:\")\n",
    "lookalike_df.head(20) #Displaying the first 20 rows \n"
   ]
  }
 ],
 "metadata": {
  "kernelspec": {
   "display_name": "Python 3 (ipykernel)",
   "language": "python",
   "name": "python3"
  },
  "language_info": {
   "codemirror_mode": {
    "name": "ipython",
    "version": 3
   },
   "file_extension": ".py",
   "mimetype": "text/x-python",
   "name": "python",
   "nbconvert_exporter": "python",
   "pygments_lexer": "ipython3",
   "version": "3.12.7"
  }
 },
 "nbformat": 4,
 "nbformat_minor": 5
}
